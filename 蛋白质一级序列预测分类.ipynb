{
 "cells": [
  {
   "cell_type": "markdown",
   "metadata": {},
   "source": [
    "# 根据蛋白质一级序列预测分类"
   ]
  },
  {
   "cell_type": "markdown",
   "metadata": {},
   "source": [
    "-数据集来源：https://www.kaggle.com/datasets/shahir/protein-data-set\n",
    "-基本框架来源：https://github.com/nadimintikrish/protein_lstm"
   ]
  },
  {
   "cell_type": "markdown",
   "metadata": {},
   "source": [
    "#数据提取与预处理"
   ]
  },
  {
   "cell_type": "code",
   "execution_count": null,
   "metadata": {
    "collapsed": true
   },
   "outputs": [],
   "source": [
    "import pandas as pd\n",
    "import numpy as np\n",
    "import matplotlib.pyplot as plt#数据可视化工具"
   ]
  },
  {
   "cell_type": "code",
   "execution_count": null,
   "metadata": {},
   "outputs": [
    {
     "name": "stdout",
     "output_type": "stream",
     "text": [
      "..Read data files..\n"
     ]
    }
   ],
   "source": [
    "\n",
    "df_pdb_data_no_seq = pd.read_csv('sampled_file1.无.十万版.csv')\n",
    "df_pdb_seq = pd.read_csv('sampled_file2.有.十万版.csv')\n",
    "print(\"..Read data files..\")"
   ]
  },
  {
   "cell_type": "code",
   "execution_count": 3,
   "metadata": {
    "collapsed": true
   },
   "outputs": [],
   "source": [
    "# filtering out only protein structures\n",
    "df_protein_seq = df_pdb_seq[(df_pdb_seq['macromoleculeType'] == 'Protein')]"
   ]
  },
  {
   "cell_type": "code",
   "execution_count": 4,
   "metadata": {},
   "outputs": [
    {
     "data": {
      "text/html": [
       "<div>\n",
       "<style scoped>\n",
       "    .dataframe tbody tr th:only-of-type {\n",
       "        vertical-align: middle;\n",
       "    }\n",
       "\n",
       "    .dataframe tbody tr th {\n",
       "        vertical-align: top;\n",
       "    }\n",
       "\n",
       "    .dataframe thead th {\n",
       "        text-align: right;\n",
       "    }\n",
       "</style>\n",
       "<table border=\"1\" class=\"dataframe\">\n",
       "  <thead>\n",
       "    <tr style=\"text-align: right;\">\n",
       "      <th></th>\n",
       "      <th>sequence</th>\n",
       "      <th>classification</th>\n",
       "    </tr>\n",
       "  </thead>\n",
       "  <tbody>\n",
       "    <tr>\n",
       "      <th>0</th>\n",
       "      <td>MRIYSRLFQISSANYARQIMSNQFIKAKESKGLTYQQMAQLLSVNK...</td>\n",
       "      <td>LYASE</td>\n",
       "    </tr>\n",
       "    <tr>\n",
       "      <th>1</th>\n",
       "      <td>SMSYTWTGALITPCAAEESKLPINPLSNSLLRHHNMVYATTSRSAS...</td>\n",
       "      <td>TRANSFERASE/TRANSFERASE INHIBITOR</td>\n",
       "    </tr>\n",
       "    <tr>\n",
       "      <th>2</th>\n",
       "      <td>SNAPVEGSEEDKSQTGVNRASKGGLIYGNYLHLEKVLNAQELQSET...</td>\n",
       "      <td>OXIDOREDUCTASE</td>\n",
       "    </tr>\n",
       "    <tr>\n",
       "      <th>3</th>\n",
       "      <td>AQLVDSMPSASTGSVVVTDDLNYWGGRRIKSKDGATTEPVFEPATG...</td>\n",
       "      <td>OXIDOREDUCTASE</td>\n",
       "    </tr>\n",
       "    <tr>\n",
       "      <th>4</th>\n",
       "      <td>GSHMAEISSDIISSDIDQLNPESADLRALAKHLYDSYIKSFPLTKA...</td>\n",
       "      <td>TRANSCRIPTION</td>\n",
       "    </tr>\n",
       "  </tbody>\n",
       "</table>\n",
       "</div>"
      ],
      "text/plain": [
       "                                            sequence  \\\n",
       "0  MRIYSRLFQISSANYARQIMSNQFIKAKESKGLTYQQMAQLLSVNK...   \n",
       "1  SMSYTWTGALITPCAAEESKLPINPLSNSLLRHHNMVYATTSRSAS...   \n",
       "2  SNAPVEGSEEDKSQTGVNRASKGGLIYGNYLHLEKVLNAQELQSET...   \n",
       "3  AQLVDSMPSASTGSVVVTDDLNYWGGRRIKSKDGATTEPVFEPATG...   \n",
       "4  GSHMAEISSDIISSDIDQLNPESADLRALAKHLYDSYIKSFPLTKA...   \n",
       "\n",
       "                      classification  \n",
       "0                              LYASE  \n",
       "1  TRANSFERASE/TRANSFERASE INHIBITOR  \n",
       "2                     OXIDOREDUCTASE  \n",
       "3                     OXIDOREDUCTASE  \n",
       "4                      TRANSCRIPTION  "
      ]
     },
     "execution_count": 4,
     "metadata": {},
     "output_type": "execute_result"
    }
   ],
   "source": [
    "# joining two data sets for protein Seq - classification\n",
    "\n",
    "df_protein_final = df_protein_seq.merge(df_pdb_data_no_seq, on='structureId')\n",
    "\n",
    "df_protein_seq_final = df_protein_final[['sequence', 'classification']]\n",
    "\n",
    "df_protein_seq_final.head()"
   ]
  },
  {
   "cell_type": "code",
   "execution_count": 5,
   "metadata": {},
   "outputs": [
    {
     "name": "stdout",
     "output_type": "stream",
     "text": [
      "filtered data with NA values\n"
     ]
    }
   ],
   "source": [
    "df_protein_seq_final = df_protein_seq_final.dropna()\n",
    "print(\"filtered data with NA values\")"
   ]
  },
  {
   "cell_type": "code",
   "execution_count": 6,
   "metadata": {},
   "outputs": [
    {
     "name": "stdout",
     "output_type": "stream",
     "text": [
      "Unique Amino Acid Set...\n"
     ]
    }
   ],
   "source": [
    "from utilities.EmbeddingEncoder import EmbeddingEncoder\n",
    "\n",
    "embed_enoder = EmbeddingEncoder()\n",
    "\n",
    "embed_enoder.find_unique_amino_acids(df_protein_seq_final['sequence'])\n",
    "print(\"Unique Amino Acid Set...\")"
   ]
  },
  {
   "cell_type": "code",
   "execution_count": 7,
   "metadata": {},
   "outputs": [
    {
     "name": "stdout",
     "output_type": "stream",
     "text": [
      "{'A': 1, 'B': 2, 'C': 3, 'D': 4, 'E': 5, 'F': 6, 'G': 7, 'H': 8, 'I': 9, 'K': 10, 'L': 11, 'M': 12, 'N': 13, 'P': 14, 'Q': 15, 'R': 16, 'S': 17, 'T': 18, 'U': 19, 'V': 20, 'W': 21, 'X': 22, 'Y': 23, 'Z': 24, '<PAD>': 0}\n"
     ]
    }
   ],
   "source": [
    "embed_enoder.create_embed_encoder()\n",
    "print(embed_enoder.embed_encoder)"
   ]
  },
  {
   "cell_type": "code",
   "execution_count": 8,
   "metadata": {
    "collapsed": true
   },
   "outputs": [],
   "source": [
    "from utilities.DataPreProcessor import DataPreProcessor\n",
    "\n",
    "count_dict = df_protein_seq_final['classification'].value_counts().to_dict()\n",
    "data_pre_processor = DataPreProcessor(count_dict,embed_enoder,5)"
   ]
  },
  {
   "cell_type": "code",
   "execution_count": 9,
   "metadata": {},
   "outputs": [
    {
     "name": "stdout",
     "output_type": "stream",
     "text": [
      "final Shape of the DataSet (49367, 2)\n"
     ]
    }
   ],
   "source": [
    "## delete least preferred sequences\n",
    "data_pre_processor.del_least_preferred()\n",
    "\n",
    "df_protein_seq_final_for_modeling = \\\n",
    "    df_protein_seq_final[df_protein_seq_final['classification']\n",
    "        .isin(data_pre_processor.count_dict_keys_as_list())]\n",
    "\n",
    "df_protein_seq_final_for_modeling = \\\n",
    "    df_protein_seq_final_for_modeling.reset_index(drop=True)\n",
    "print(\"final Shape of the DataSet {}\".format(df_protein_seq_final_for_modeling.shape))"
   ]
  },
  {
   "cell_type": "code",
   "execution_count": 10,
   "metadata": {
    "collapsed": true
   },
   "outputs": [],
   "source": [
    "## only considering sequences of length between 50 and 1200\n",
    "df_protein_seq_final_for_modeling = \\\n",
    "    df_protein_seq_final_for_modeling[df_protein_seq_final_for_modeling.apply(\n",
    "        lambda x: len(x['sequence']) <=1200 and len(x['sequence']) >=50 ,axis=1\n",
    "    )]"
   ]
  },
  {
   "cell_type": "code",
   "execution_count": 10,
   "metadata": {},
   "outputs": [
    {
     "name": "stdout",
     "output_type": "stream",
     "text": [
      "final Shape of the DataSet (49367, 2)\n"
     ]
    }
   ],
   "source": [
    "print(\"final Shape of the DataSet {}\".format(df_protein_seq_final_for_modeling.shape))"
   ]
  },
  {
   "cell_type": "code",
   "execution_count": 11,
   "metadata": {
    "collapsed": true
   },
   "outputs": [],
   "source": [
    "X_sequences = df_protein_seq_final_for_modeling['sequence']\n",
    "y_label = df_protein_seq_final_for_modeling['classification']"
   ]
  },
  {
   "cell_type": "code",
   "execution_count": 12,
   "metadata": {},
   "outputs": [
    {
     "name": "stdout",
     "output_type": "stream",
     "text": [
      "Getting Processed Seqs\n",
      "(49367, 1200)\n",
      "getting labels\n",
      "(49367, 463)\n"
     ]
    }
   ],
   "source": [
    "## test process sequences\n",
    "\n",
    "data_pre_processor.process_seqs_to_embeddings(X_sequences,y_label,1200)\n",
    "print(\"Getting Processed Seqs\")\n",
    "print(data_pre_processor.get_x().shape)\n",
    "print(\"getting labels\")\n",
    "print(data_pre_processor.get_y().shape)\n",
    "# print(\"getting protein categories\")\n",
    "# print(data_pre_processor.get_protein_categoeies())"
   ]
  },
  {
   "cell_type": "markdown",
   "metadata": {},
   "source": [
    "## LSTM Modeling"
   ]
  },
  {
   "cell_type": "code",
   "execution_count": 13,
   "metadata": {},
   "outputs": [],
   "source": [
    "from keras.layers import Conv1D\n",
    "from keras.layers import MaxPooling1D\n",
    "from keras.layers import Dense\n",
    "from keras.models import Sequential\n",
    "from keras.layers import Flatten\n",
    "from keras.layers import Embedding\n",
    "from keras.layers import Dropout\n",
    "from tensorflow.keras.layers import SpatialDropout1D\n",
    "from tensorflow.keras import regularizers\n",
    "from tensorflow.keras.layers import BatchNormalization\n"
   ]
  },
  {
   "cell_type": "code",
   "execution_count": 14,
   "metadata": {},
   "outputs": [],
   "source": [
    "from tensorflow.keras.layers import GlobalMaxPooling1D"
   ]
  },
  {
   "cell_type": "code",
   "execution_count": 15,
   "metadata": {},
   "outputs": [],
   "source": [
    "from keras.regularizers import l2"
   ]
  },
  {
   "cell_type": "code",
   "execution_count": null,
   "metadata": {},
   "outputs": [
    {
     "name": "stdout",
     "output_type": "stream",
     "text": [
      "Model: \"sequential\"\n",
      "_________________________________________________________________\n",
      " Layer (type)                Output Shape              Param #   \n",
      "=================================================================\n",
      " embedding (Embedding)       (None, 1200, 128)         640000    \n",
      "                                                                 \n",
      " spatial_dropout1d (SpatialD  (None, 1200, 128)        0         \n",
      " ropout1D)                                                       \n",
      "                                                                 \n",
      " conv1d (Conv1D)             (None, 1200, 64)          41024     \n",
      "                                                                 \n",
      " max_pooling1d (MaxPooling1D  (None, 600, 64)          0         \n",
      " )                                                               \n",
      "                                                                 \n",
      " batch_normalization (BatchN  (None, 600, 64)          256       \n",
      " ormalization)                                                   \n",
      "                                                                 \n",
      " conv1d_1 (Conv1D)           (None, 600, 128)          41088     \n",
      "                                                                 \n",
      " max_pooling1d_1 (MaxPooling  (None, 300, 128)         0         \n",
      " 1D)                                                             \n",
      "                                                                 \n",
      " batch_normalization_1 (Batc  (None, 300, 128)         512       \n",
      " hNormalization)                                                 \n",
      "                                                                 \n",
      " conv1d_2 (Conv1D)           (None, 300, 256)          98560     \n",
      "                                                                 \n",
      " global_max_pooling1d (Globa  (None, 256)              0         \n",
      " lMaxPooling1D)                                                  \n",
      "                                                                 \n",
      " dense (Dense)               (None, 256)               65792     \n",
      "                                                                 \n",
      " dropout (Dropout)           (None, 256)               0         \n",
      "                                                                 \n",
      " dense_1 (Dense)             (None, 463)               118991    \n",
      "                                                                 \n",
      "=================================================================\n",
      "Total params: 1,006,223\n",
      "Trainable params: 1,005,839\n",
      "Non-trainable params: 384\n",
      "_________________________________________________________________\n",
      "None\n"
     ]
    }
   ],
   "source": [
    "embed_vol = 5000\n",
    "embed_dim = 100\n",
    "num_features = 25\n",
    "max_seq_length = 1200\n",
    "## AAs are supposed to be integer encoded for embedding layer \n"
   ]
  },
  {
   "cell_type": "code",
   "execution_count": null,
   "metadata": {},
   "outputs": [],
   "source": [
    "\n",
    "model = Sequential()\n",
    "model.add(Embedding(5000, 128, input_length=1200))  # 增大嵌入维度\n",
    "model.add(SpatialDropout1D(0.2))  # 降低Dropout比例\n",
    "# 新增卷积块\n",
    "model.add(Conv1D(64, 5, activation='relu', padding='same', kernel_regularizer=l2(0.005)))\n",
    "model.add(MaxPooling1D(2))\n",
    "model.add(BatchNormalization())\n",
    "model.add(Conv1D(128, 5, activation='relu', padding='same', kernel_regularizer=l2(0.005)))\n",
    "model.add(MaxPooling1D(2))  # 新增池化层\n",
    "model.add(BatchNormalization())\n",
    "model.add(Conv1D(256, 3, activation='relu', padding='same', kernel_regularizer=l2(0.005))) # 新增卷积层\n",
    "model.add(GlobalMaxPooling1D())\n",
    "model.add(Dense(256, activation='relu', kernel_regularizer=l2(0.005)))  # 增大全连接层维度\n",
    "model.add(Dropout(0.3))  # 适度Dropout\n",
    "model.add(Dense(463, activation='softmax'))\n",
    "model.compile(optimizer='adam', loss='categorical_crossentropy', metrics=['accuracy'])\n",
    "print(model.summary())"
   ]
  },
  {
   "cell_type": "markdown",
   "metadata": {},
   "source": [
    "## Test-Train Split"
   ]
  },
  {
   "cell_type": "code",
   "execution_count": 17,
   "metadata": {
    "collapsed": true
   },
   "outputs": [],
   "source": [
    "from sklearn.model_selection import train_test_split\n",
    "X_train, X_test, y_train, y_test = train_test_split(\n",
    "    data_pre_processor.get_x(), \n",
    "    data_pre_processor.get_y(), \n",
    "    test_size=0.20, \n",
    "    random_state=42\n",
    ")"
   ]
  },
  {
   "cell_type": "code",
   "execution_count": 18,
   "metadata": {},
   "outputs": [],
   "source": [
    "# 数据增强：随机截断序列（长度50-1200）\n",
    "def random_truncate(sequence, max_len=1200):\n",
    "    if len(sequence) > max_len:\n",
    "        start = np.random.randint(0, len(sequence)-max_len)\n",
    "        return sequence[start:start+max_len]\n",
    "    else:\n",
    "        return sequence.ljust(max_len, 'X')  # 用'X'填充短序列\n",
    "    \n",
    "X_sequences = X_sequences.apply(random_truncate)"
   ]
  },
  {
   "cell_type": "code",
   "execution_count": 19,
   "metadata": {},
   "outputs": [
    {
     "name": "stdout",
     "output_type": "stream",
     "text": [
      "train data shape is (39493, 1200) and (39493, 463)\n",
      "test data shape is (9874, 1200) and (9874, 463)\n"
     ]
    }
   ],
   "source": [
    "print(\"train data shape is {} and {}\".format(X_train.shape,y_train.shape))\n",
    "print(\"test data shape is {} and {}\".format(X_test.shape,y_test.shape))"
   ]
  },
  {
   "cell_type": "code",
   "execution_count": 18,
   "metadata": {
    "collapsed": true
   },
   "outputs": [],
   "source": [
    "# from keras.callbacks import TensorBoard\n",
    "\n",
    "# tensor_board = TensorBoard(log_dir='logs/Graph', histogram_freq=0, write_graph=True, write_images=True)"
   ]
  },
  {
   "cell_type": "markdown",
   "metadata": {},
   "source": [
    "## Fit the Model (Training with validation split)"
   ]
  },
  {
   "cell_type": "code",
   "execution_count": 20,
   "metadata": {},
   "outputs": [],
   "source": [
    "from keras.callbacks import EarlyStopping, ReduceLROnPlateau"
   ]
  },
  {
   "cell_type": "code",
   "execution_count": null,
   "metadata": {},
   "outputs": [],
   "source": [
    "\n",
    "# 早停：当验证损失3轮不下降时终止训练\n",
    "early_stop = EarlyStopping(monitor='val_loss', patience=3, restore_best_weights=True) \n",
    "\n",
    "# 动态学习率：损失停滞时自动降低学习率\n",
    "reduce_lr = ReduceLROnPlateau(monitor='val_loss', factor=0.2, patience=10, min_lr=1e-3)\n"
   ]
  },
  {
   "cell_type": "code",
   "execution_count": 25,
   "metadata": {},
   "outputs": [
    {
     "name": "stdout",
     "output_type": "stream",
     "text": [
      "Epoch 1/20\n",
      "247/247 [==============================] - 171s 692ms/step - loss: 1.6339 - accuracy: 0.6908 - val_loss: 2.6044 - val_accuracy: 0.5702 - lr: 1.0000e-05\n",
      "Epoch 2/20\n",
      "247/247 [==============================] - 173s 701ms/step - loss: 1.6357 - accuracy: 0.6900 - val_loss: 2.6019 - val_accuracy: 0.5713 - lr: 1.0000e-05\n",
      "Epoch 3/20\n",
      "247/247 [==============================] - 169s 685ms/step - loss: 1.6297 - accuracy: 0.6907 - val_loss: 2.6038 - val_accuracy: 0.5715 - lr: 1.0000e-05\n",
      "Epoch 4/20\n",
      "247/247 [==============================] - 157s 637ms/step - loss: 1.6286 - accuracy: 0.6932 - val_loss: 2.6005 - val_accuracy: 0.5716 - lr: 1.0000e-05\n",
      "Epoch 5/20\n",
      "247/247 [==============================] - 149s 602ms/step - loss: 1.6266 - accuracy: 0.6919 - val_loss: 2.5989 - val_accuracy: 0.5720 - lr: 1.0000e-05\n",
      "Epoch 6/20\n",
      "247/247 [==============================] - 148s 600ms/step - loss: 1.6299 - accuracy: 0.6912 - val_loss: 2.6017 - val_accuracy: 0.5727 - lr: 1.0000e-05\n",
      "Epoch 7/20\n",
      "247/247 [==============================] - 149s 604ms/step - loss: 1.6299 - accuracy: 0.6917 - val_loss: 2.5981 - val_accuracy: 0.5722 - lr: 1.0000e-05\n",
      "Epoch 8/20\n",
      "247/247 [==============================] - 148s 600ms/step - loss: 1.6234 - accuracy: 0.6932 - val_loss: 2.6013 - val_accuracy: 0.5726 - lr: 1.0000e-05\n",
      "Epoch 9/20\n",
      "247/247 [==============================] - 148s 599ms/step - loss: 1.6136 - accuracy: 0.6943 - val_loss: 2.6016 - val_accuracy: 0.5722 - lr: 1.0000e-05\n",
      "Epoch 10/20\n",
      "247/247 [==============================] - 148s 598ms/step - loss: 1.6191 - accuracy: 0.6926 - val_loss: 2.5987 - val_accuracy: 0.5731 - lr: 1.0000e-05\n"
     ]
    },
    {
     "data": {
      "image/png": "[encoded data removed]",
      "text/plain": [
       "<Figure size 640x480 with 1 Axes>"
      ]
     },
     "metadata": {},
     "output_type": "display_data"
    }
   ],
   "source": [
    "history = model.fit(\n",
    "    X_train, y_train,\n",
    "    epochs=20,  # 延长训练轮次\n",
    "    batch_size=128,  # 增大批次提升稳定性\n",
    "    validation_split=0.2,\n",
    "    callbacks=[early_stop, reduce_lr]   \n",
    ")\n",
    "plt.plot(history.history['loss'])\n",
    "plt.plot(history.history['val_loss'])\n",
    "plt.title('model train vs validation loss')\n",
    "plt.ylabel('loss')\n",
    "plt.xlabel('epoch')\n",
    "plt.legend(['train', 'validation'], loc='upper right')\n",
    "plt.show()"
   ]
  }
 ],
 "metadata": {
  "kernelspec": {
   "display_name": "cuda12_env",
   "language": "python",
   "name": "python3"
  },
  "language_info": {
   "codemirror_mode": {
    "name": "ipython",
    "version": 3
   },
   "file_extension": ".py",
   "mimetype": "text/x-python",
   "name": "python",
   "nbconvert_exporter": "python",
   "pygments_lexer": "ipython3",
   "version": "3.10.8"
  }
 },
 "nbformat": 4,
 "nbformat_minor": 2
}
